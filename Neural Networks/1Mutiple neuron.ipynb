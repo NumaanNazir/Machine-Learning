{
 "cells": [
  {
   "cell_type": "code",
   "execution_count": 1,
   "id": "be2117a7-d255-4609-af57-6eb95a653e3c",
   "metadata": {},
   "outputs": [],
   "source": [
    "import numpy as np"
   ]
  },
  {
   "cell_type": "code",
   "execution_count": 12,
   "id": "f470cf8b-0d4e-420f-8e8b-adf13bd1728b",
   "metadata": {},
   "outputs": [],
   "source": [
    "input=np.array([2,5,6])\n",
    "weight1=np.array([1,0.5,2])\n",
    "weight2=np.array([0.2,-0.5,2])\n",
    "weight3=np.array([2,0.5,1]) \n",
    "weight4=np.array([2,0.7,-1]) \n",
    "bias1=np.array([2])\n",
    "bias2=np.array([-1])\n",
    "bias3=np.array([3])\n",
    "bias4=np.array([0.5])"
   ]
  },
  {
   "cell_type": "code",
   "execution_count": 7,
   "id": "81177ba0-b724-4a52-ab1a-994c3e536c39",
   "metadata": {},
   "outputs": [],
   "source": [
    "# output=np.dot(input,weight)+bias"
   ]
  },
  {
   "cell_type": "code",
   "execution_count": 13,
   "id": "a878d319-3697-40b2-a082-02d9f03bfb5f",
   "metadata": {},
   "outputs": [],
   "source": [
    "final_output=[input[0]*weight1[0]+input[1]*weight1[1]+input[2]*weight1[2]+bias1,\n",
    "              input[0]*weight2[0]+input[1]*weight2[1]+input[2]*weight2[2]+bias2,\n",
    "              input[0]*weight3[0]+input[1]*weight3[1]+input[2]*weight3[2]+bias3,\n",
    "              input[0]*weight4[0]+input[1]*weight4[1]+input[2]*weight4[2]+bias4]"
   ]
  },
  {
   "cell_type": "code",
   "execution_count": 15,
   "id": "9515e251-602b-4752-a72f-29163d2aa801",
   "metadata": {},
   "outputs": [
    {
     "data": {
      "text/plain": [
       "[array([18.5]), array([8.9]), array([15.5]), array([2.])]"
      ]
     },
     "execution_count": 15,
     "metadata": {},
     "output_type": "execute_result"
    }
   ],
   "source": [
    " final_output"
   ]
  }
 ],
 "metadata": {
  "kernelspec": {
   "display_name": "Python 3 (ipykernel)",
   "language": "python",
   "name": "python3"
  },
  "language_info": {
   "codemirror_mode": {
    "name": "ipython",
    "version": 3
   },
   "file_extension": ".py",
   "mimetype": "text/x-python",
   "name": "python",
   "nbconvert_exporter": "python",
   "pygments_lexer": "ipython3",
   "version": "3.12.0"
  }
 },
 "nbformat": 4,
 "nbformat_minor": 5
}
