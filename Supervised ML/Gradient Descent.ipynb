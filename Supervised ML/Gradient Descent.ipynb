{
 "cells": [
  {
   "cell_type": "markdown",
   "id": "3e7d2df9-1911-454c-86bd-35bc5cbf9270",
   "metadata": {},
   "source": [
    "                                                    GRADIENT DESCENT"
   ]
  },
  {
   "cell_type": "code",
   "execution_count": 37,
   "id": "ada5fefa-fa9d-4ca7-ad3d-88ac539278d3",
   "metadata": {},
   "outputs": [],
   "source": [
    "#IMPORTING IMP LIBRARIES\n",
    "\n",
    "import numpy as np\n",
    "\n",
    "import matplotlib.pyplot as plt\n",
    "\n",
    "import math "
   ]
  },
  {
   "cell_type": "code",
   "execution_count": 38,
   "id": "e6f7d54f-f209-4084-8769-41a17fe48504",
   "metadata": {},
   "outputs": [],
   "source": [
    "#Assigning values x_train as size in 100 sq Feet and y_train as Price in 10000$\n",
    "\n",
    "x_train = np.array([2.0, 5.0,3.0,4.0])\n",
    "\n",
    "y_train = np.array([300.0, 700.0,600.0,200.0])\n"
   ]
  },
  {
   "cell_type": "code",
   "execution_count": 39,
   "id": "44769355-18ce-4d8c-9f58-bdb080fbc840",
   "metadata": {},
   "outputs": [],
   "source": [
    "#FUNCTION\n",
    "def compute_cost(w, x, y, b):\n",
    "    \n",
    "    m = x_train.shape[0]\n",
    "    \n",
    "    cost = 0\n",
    "    \n",
    "    for i in range(m):\n",
    "        \n",
    "        f_wb = w * x[i] + b\n",
    "        \n",
    "        cost += (f_wb - y[i])**2\n",
    "        \n",
    "    cost_final = 1 / (2 * m) * cost\n",
    "    \n",
    "    return cost_final\n"
   ]
  },
  {
   "cell_type": "code",
   "execution_count": 40,
   "id": "bc6f4fda-a762-4aab-bb3c-73104a0f8c43",
   "metadata": {},
   "outputs": [],
   "source": [
    "#Function\n",
    "\n",
    "def compute_gradient(w, x, y, b):\n",
    "    \n",
    "    m = x_train.shape[0]\n",
    "    \n",
    "    dj_w = 0\n",
    "    \n",
    "    dj_b = 0\n",
    "    \n",
    "    for i in range(m):\n",
    "        \n",
    "        f_wb = w * x[i] + b\n",
    "\n",
    "        \n",
    "        dj_w += (f_wb - y[i]) * x[i]\n",
    "        \n",
    "        dj_b += (f_wb - y[i])\n",
    "        \n",
    "    dj_w /= m\n",
    "    \n",
    "    dj_b /= m\n",
    "    \n",
    "    return dj_w, dj_b   "
   ]
  },
  {
   "cell_type": "code",
   "execution_count": 41,
   "id": "8952283c-9c40-423d-a0a7-e8470144ed3e",
   "metadata": {},
   "outputs": [],
   "source": [
    "#Function\n",
    "\n",
    "def gradient_descent(num_iters, w_in, b_in, x, y, alpha, cost_function, gradient_function):\n",
    "    \n",
    "    J_history = []\n",
    "    \n",
    "    p_history = []\n",
    "    \n",
    "    b = b_in\n",
    "    \n",
    "    w = w_in\n",
    "    \n",
    "    for i in range(num_iters):\n",
    "        \n",
    "        dj_dw, dj_db = gradient_function(w, x, y, b)   \n",
    "        \n",
    "        b -= alpha * dj_db      \n",
    "        \n",
    "        w -= alpha * dj_dw  \n",
    "\n",
    "        if i < 10000:\n",
    "            \n",
    "            J_history.append(cost_function(w, x, y, b))\n",
    "            \n",
    "            p_history.append([w, b])\n",
    "\n",
    "    return w, b, J_history, p_history"
   ]
  },
  {
   "cell_type": "code",
   "execution_count": 42,
   "id": "9be23aa7-7e7e-4aaf-a049-bff8b6685ebb",
   "metadata": {},
   "outputs": [
    {
     "name": "stdout",
     "output_type": "stream",
     "text": [
      "(w, b) found by gradient descent: (80.0062, 169.9762)\n"
     ]
    }
   ],
   "source": [
    "#Assigning final values  \n",
    "\n",
    "w_init = 0\n",
    "\n",
    "b_init = 0\n",
    "\n",
    "iterations = 10000\n",
    "\n",
    "tmp_alpha = 1.0e-2\n",
    "\n",
    "w_final, b_final, J_hist, p_hist = gradient_descent(iterations, w_init, b_init, x_train, y_train, tmp_alpha, compute_cost, compute_gradient)\n",
    "print(f\"(w, b) found by gradient descent: ({w_final:.4f}, {b_final:.4f})\")"
   ]
  },
  {
   "cell_type": "code",
   "execution_count": null,
   "id": "68760fe5-90dd-4be8-8c66-1e1ea4b1b8f1",
   "metadata": {},
   "outputs": [],
   "source": []
  }
 ],
 "metadata": {
  "kernelspec": {
   "display_name": "Python 3 (ipykernel)",
   "language": "python",
   "name": "python3"
  },
  "language_info": {
   "codemirror_mode": {
    "name": "ipython",
    "version": 3
   },
   "file_extension": ".py",
   "mimetype": "text/x-python",
   "name": "python",
   "nbconvert_exporter": "python",
   "pygments_lexer": "ipython3",
   "version": "3.12.0"
  }
 },
 "nbformat": 4,
 "nbformat_minor": 5
}
