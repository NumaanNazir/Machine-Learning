{
 "cells": [
  {
   "cell_type": "markdown",
   "id": "02a9475d-a761-43f3-bb41-5fd9087db392",
   "metadata": {},
   "source": [
    "                                  LINEAR REGRESSION WITH SCIKIT LEARN"
   ]
  },
  {
   "cell_type": "code",
   "execution_count": 105,
   "id": "2f9b242e-2913-4cfb-9161-cba9ceb8e7cf",
   "metadata": {},
   "outputs": [],
   "source": [
    "#Importing Libraries\n",
    "import numpy as np\n",
    "import matplotlib.pyplot as plt\n",
    "from sklearn.linear_model import SGDRegressor\n",
    "from sklearn.preprocessing import StandardScaler "
   ]
  },
  {
   "cell_type": "code",
   "execution_count": 106,
   "id": "085e98bf-a93b-4e47-b262-f7a26f161830",
   "metadata": {},
   "outputs": [],
   "source": [
    "#data\n",
    "x_train=np.array([[1500,4,4,2],[2100,5,4,3],[2600,5,3,6]])\n",
    "y_train=np.array([250,320,400])"
   ]
  },
  {
   "cell_type": "code",
   "execution_count": 107,
   "id": "ca06ddde-053f-4806-b7de-eacd8d47703a",
   "metadata": {},
   "outputs": [],
   "source": [
    "scaler=StandardScaler()\n",
    "x_train01=scaler.fit_transform(x_train)"
   ]
  },
  {
   "cell_type": "code",
   "execution_count": 108,
   "id": "8bb19ae2-2118-4b4a-b1ea-b368cdc8ac37",
   "metadata": {},
   "outputs": [
    {
     "data": {
      "text/plain": [
       "array([[-1.26012384, -1.41421356,  0.70710678, -0.98058068],\n",
       "       [ 0.07412493,  0.70710678,  0.70710678, -0.39223227],\n",
       "       [ 1.18599891,  0.70710678, -1.41421356,  1.37281295]])"
      ]
     },
     "execution_count": 108,
     "metadata": {},
     "output_type": "execute_result"
    }
   ],
   "source": [
    "x_train01"
   ]
  },
  {
   "cell_type": "code",
   "execution_count": 109,
   "id": "f1279b2b-02db-4653-97d1-a0ce2847b7bc",
   "metadata": {},
   "outputs": [
    {
     "data": {
      "text/html": [
       "<style>#sk-container-id-7 {color: black;}#sk-container-id-7 pre{padding: 0;}#sk-container-id-7 div.sk-toggleable {background-color: white;}#sk-container-id-7 label.sk-toggleable__label {cursor: pointer;display: block;width: 100%;margin-bottom: 0;padding: 0.3em;box-sizing: border-box;text-align: center;}#sk-container-id-7 label.sk-toggleable__label-arrow:before {content: \"▸\";float: left;margin-right: 0.25em;color: #696969;}#sk-container-id-7 label.sk-toggleable__label-arrow:hover:before {color: black;}#sk-container-id-7 div.sk-estimator:hover label.sk-toggleable__label-arrow:before {color: black;}#sk-container-id-7 div.sk-toggleable__content {max-height: 0;max-width: 0;overflow: hidden;text-align: left;background-color: #f0f8ff;}#sk-container-id-7 div.sk-toggleable__content pre {margin: 0.2em;color: black;border-radius: 0.25em;background-color: #f0f8ff;}#sk-container-id-7 input.sk-toggleable__control:checked~div.sk-toggleable__content {max-height: 200px;max-width: 100%;overflow: auto;}#sk-container-id-7 input.sk-toggleable__control:checked~label.sk-toggleable__label-arrow:before {content: \"▾\";}#sk-container-id-7 div.sk-estimator input.sk-toggleable__control:checked~label.sk-toggleable__label {background-color: #d4ebff;}#sk-container-id-7 div.sk-label input.sk-toggleable__control:checked~label.sk-toggleable__label {background-color: #d4ebff;}#sk-container-id-7 input.sk-hidden--visually {border: 0;clip: rect(1px 1px 1px 1px);clip: rect(1px, 1px, 1px, 1px);height: 1px;margin: -1px;overflow: hidden;padding: 0;position: absolute;width: 1px;}#sk-container-id-7 div.sk-estimator {font-family: monospace;background-color: #f0f8ff;border: 1px dotted black;border-radius: 0.25em;box-sizing: border-box;margin-bottom: 0.5em;}#sk-container-id-7 div.sk-estimator:hover {background-color: #d4ebff;}#sk-container-id-7 div.sk-parallel-item::after {content: \"\";width: 100%;border-bottom: 1px solid gray;flex-grow: 1;}#sk-container-id-7 div.sk-label:hover label.sk-toggleable__label {background-color: #d4ebff;}#sk-container-id-7 div.sk-serial::before {content: \"\";position: absolute;border-left: 1px solid gray;box-sizing: border-box;top: 0;bottom: 0;left: 50%;z-index: 0;}#sk-container-id-7 div.sk-serial {display: flex;flex-direction: column;align-items: center;background-color: white;padding-right: 0.2em;padding-left: 0.2em;position: relative;}#sk-container-id-7 div.sk-item {position: relative;z-index: 1;}#sk-container-id-7 div.sk-parallel {display: flex;align-items: stretch;justify-content: center;background-color: white;position: relative;}#sk-container-id-7 div.sk-item::before, #sk-container-id-7 div.sk-parallel-item::before {content: \"\";position: absolute;border-left: 1px solid gray;box-sizing: border-box;top: 0;bottom: 0;left: 50%;z-index: -1;}#sk-container-id-7 div.sk-parallel-item {display: flex;flex-direction: column;z-index: 1;position: relative;background-color: white;}#sk-container-id-7 div.sk-parallel-item:first-child::after {align-self: flex-end;width: 50%;}#sk-container-id-7 div.sk-parallel-item:last-child::after {align-self: flex-start;width: 50%;}#sk-container-id-7 div.sk-parallel-item:only-child::after {width: 0;}#sk-container-id-7 div.sk-dashed-wrapped {border: 1px dashed gray;margin: 0 0.4em 0.5em 0.4em;box-sizing: border-box;padding-bottom: 0.4em;background-color: white;}#sk-container-id-7 div.sk-label label {font-family: monospace;font-weight: bold;display: inline-block;line-height: 1.2em;}#sk-container-id-7 div.sk-label-container {text-align: center;}#sk-container-id-7 div.sk-container {/* jupyter's `normalize.less` sets `[hidden] { display: none; }` but bootstrap.min.css set `[hidden] { display: none !important; }` so we also need the `!important` here to be able to override the default hidden behavior on the sphinx rendered scikit-learn.org. See: https://github.com/scikit-learn/scikit-learn/issues/21755 */display: inline-block !important;position: relative;}#sk-container-id-7 div.sk-text-repr-fallback {display: none;}</style><div id=\"sk-container-id-7\" class=\"sk-top-container\"><div class=\"sk-text-repr-fallback\"><pre>SGDRegressor(max_iter=10000)</pre><b>In a Jupyter environment, please rerun this cell to show the HTML representation or trust the notebook. <br />On GitHub, the HTML representation is unable to render, please try loading this page with nbviewer.org.</b></div><div class=\"sk-container\" hidden><div class=\"sk-item\"><div class=\"sk-estimator sk-toggleable\"><input class=\"sk-toggleable__control sk-hidden--visually\" id=\"sk-estimator-id-7\" type=\"checkbox\" checked><label for=\"sk-estimator-id-7\" class=\"sk-toggleable__label sk-toggleable__label-arrow\">SGDRegressor</label><div class=\"sk-toggleable__content\"><pre>SGDRegressor(max_iter=10000)</pre></div></div></div></div></div>"
      ],
      "text/plain": [
       "SGDRegressor(max_iter=10000)"
      ]
     },
     "execution_count": 109,
     "metadata": {},
     "output_type": "execute_result"
    }
   ],
   "source": [
    "sgdr=SGDRegressor(max_iter=10000)\n",
    "sgdr.fit(x_train01,y_train)"
   ]
  },
  {
   "cell_type": "code",
   "execution_count": 110,
   "id": "7495c5fc-4c91-49ac-b8c3-35ae1174031b",
   "metadata": {},
   "outputs": [],
   "source": [
    "w=sgdr.coef_\n",
    "b=sgdr.intercept_"
   ]
  },
  {
   "cell_type": "code",
   "execution_count": 111,
   "id": "73e4b4ed-11bc-4098-af9e-51a2bc48a2b1",
   "metadata": {},
   "outputs": [],
   "source": [
    "w=w.reshape(-1,1)"
   ]
  },
  {
   "cell_type": "code",
   "execution_count": 113,
   "id": "252945fd-f1f1-4388-a693-542026a7301c",
   "metadata": {},
   "outputs": [
    {
     "data": {
      "text/plain": [
       "array([322.84108237])"
      ]
     },
     "execution_count": 113,
     "metadata": {},
     "output_type": "execute_result"
    }
   ],
   "source": [
    "print(b)"
   ]
  },
  {
   "cell_type": "code",
   "execution_count": 114,
   "id": "eaed437e-3c14-4a82-aa68-2f72a0d49abd",
   "metadata": {},
   "outputs": [],
   "source": [
    "#Prediction\n",
    "pred=np.dot(x_train01,w)+b"
   ]
  },
  {
   "cell_type": "code",
   "execution_count": 142,
   "id": "5b0c3ed9-7a20-418f-8f46-8e091431a65b",
   "metadata": {},
   "outputs": [
    {
     "name": "stdout",
     "output_type": "stream",
     "text": [
      "[[249.59035138]\n",
      " [319.36266267]\n",
      " [399.57023306]]\n"
     ]
    }
   ],
   "source": [
    "print(pred)"
   ]
  },
  {
   "cell_type": "code",
   "execution_count": 130,
   "id": "52ba5573-fede-449d-8579-45d3627e64bf",
   "metadata": {},
   "outputs": [],
   "source": [
    "#NEW DATA\n",
    "new_data=np.array([2600,5,3,6]).reshape(-1,1)"
   ]
  },
  {
   "cell_type": "code",
   "execution_count": 131,
   "id": "22481038-e156-406b-929b-b95d0d4806c3",
   "metadata": {},
   "outputs": [],
   "source": [
    "#Normalizing\n",
    "sc=StandardScaler()\n",
    "new_data01=sc.fit_transform(new_data)"
   ]
  },
  {
   "cell_type": "code",
   "execution_count": 136,
   "id": "4408a526-1829-47ca-afef-feb596f7d5d3",
   "metadata": {},
   "outputs": [],
   "source": [
    "new_data01=new_data01.reshape(-1,4)"
   ]
  },
  {
   "cell_type": "code",
   "execution_count": 140,
   "id": "d3cf1ba4-7674-4768-9080-e605a00118aa",
   "metadata": {},
   "outputs": [],
   "source": [
    "preeed=sgdr.predict(new_data01)"
   ]
  },
  {
   "cell_type": "code",
   "execution_count": 144,
   "id": "1b530d4e-8cef-4d29-8681-7114aa7d66a0",
   "metadata": {},
   "outputs": [
    {
     "name": "stdout",
     "output_type": "stream",
     "text": [
      "[343.30755208]\n"
     ]
    }
   ],
   "source": [
    "print(preeed)"
   ]
  }
 ],
 "metadata": {
  "kernelspec": {
   "display_name": "Python 3 (ipykernel)",
   "language": "python",
   "name": "python3"
  },
  "language_info": {
   "codemirror_mode": {
    "name": "ipython",
    "version": 3
   },
   "file_extension": ".py",
   "mimetype": "text/x-python",
   "name": "python",
   "nbconvert_exporter": "python",
   "pygments_lexer": "ipython3",
   "version": "3.12.0"
  }
 },
 "nbformat": 4,
 "nbformat_minor": 5
}
